{
 "cells": [
  {
   "cell_type": "code",
   "execution_count": 2,
   "id": "788260e4",
   "metadata": {},
   "outputs": [],
   "source": [
    "import pandas as pd\n",
    "import requests\n",
    "from bs4 import BeautifulSoup\n",
    "from selenium import webdriver\n",
    "import csv\n",
    "from time import sleep"
   ]
  },
  {
   "cell_type": "code",
   "execution_count": 10,
   "id": "3567629e",
   "metadata": {},
   "outputs": [],
   "source": [
    "url = \"https://app2.hkp.com.hk/utx/default.jsp?lang=en\" \n",
    "driver = webdriver.Chrome()\n",
    "driver.get(url)\n",
    "subhtml = driver.page_source\n",
    "soup = BeautifulSoup(subhtml, \"html.parser\")\n",
    "xpaths = ['//*[@id=\"tblHKEstList\"]/tbody/tr[2]/td[1]/span']\n",
    "for path in xpaths:\n",
    "    button = driver.find_element_by_xpath(path)\n",
    "    button.click()\n",
    "\n",
    "#Curr & notCurr\n",
    "building = driver.find_elements_by_xpath('//*[@class=\"bldg_Curr\"]//a | //*[@class=\"bldg_NotCurr\"]//a')\n",
    "buildlink = list(zip([i.get_attribute('href') for i in building] ,[name.text for name in building]))\n",
    "# link + building name \n",
    "\n",
    "for link in buildlink:\n",
    "    driver.get(link[0])   #link\n",
    "    xpaths = ['//*[@id=\"tx_record_3\"]']\n",
    "    for path in xpaths:\n",
    "        button = driver.find_element_by_xpath(path)\n",
    "        button.click()\n",
    "    sleep(1)   \n",
    "    a = driver.find_elements_by_xpath('//table[@id=\"Tx_hist_table\"]//tr')\n",
    "    alist = [i.text for i in a]\n",
    "\n",
    "    with open('TKS.csv','a') as f:\n",
    "        csv_writer = csv.writer(f)\n",
    "        for row in alist:\n",
    "            csv_writer.writerow([link[1]]+row.split())  #building name"
   ]
  },
  {
   "cell_type": "code",
   "execution_count": null,
   "id": "5ac4752a",
   "metadata": {},
   "outputs": [],
   "source": []
  }
 ],
 "metadata": {
  "kernelspec": {
   "display_name": "Python 3",
   "language": "python",
   "name": "python3"
  },
  "language_info": {
   "codemirror_mode": {
    "name": "ipython",
    "version": 3
   },
   "file_extension": ".py",
   "mimetype": "text/x-python",
   "name": "python",
   "nbconvert_exporter": "python",
   "pygments_lexer": "ipython3",
   "version": "3.8.8"
  }
 },
 "nbformat": 4,
 "nbformat_minor": 5
}
